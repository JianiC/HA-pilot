{
 "cells": [
  {
   "cell_type": "code",
   "execution_count": null,
   "metadata": {},
   "outputs": [],
   "source": [
    "## get mutation from a MSA with ref sequence fasta\n",
    "## to run this script: python ref2mut.py input.fasta ref.fasta out.log\n",
    "## output is a csv file\n",
    "\n",
    "from Bio import SeqIO\n",
    "import numpy as np\n",
    "import os,sys\n",
    "import pandas as pd\n",
    "import argparse\n"
   ]
  },
  {
   "cell_type": "code",
   "execution_count": null,
   "metadata": {},
   "outputs": [],
   "source": [
    "\n",
    "\n",
    "def map_mutation(input_fasta,ref_fasta, output):\n",
    "    seq_records = SeqIO.parse(input_fasta, 'fasta')\n",
    "    ref_records = SeqIO.parse(ref_fasta, 'fasta')\n",
    "    df = pd.DataFrame(columns=['seq_id','location','mutate','ref'])\n",
    "    n=0\n",
    "\n",
    "    refseq_record =next(ref_records)\n",
    "    for seq_record in seq_records:\n",
    "        for i in range(0, len(refseq_record)):\n",
    "            nt1 = refseq_record[i]\n",
    "            nt2 = seq_record[i]\n",
    "            if nt1 != nt2:\n",
    "                n=n+1\n",
    "                df.loc[n, ['seq_id']] = seq_record.id\n",
    "                df.loc[n, ['location']] = i+1\n",
    "                df.loc[n, ['mutate']] = nt2\n",
    "                df.loc[n, ['ref']] = nt1\n",
    "                #print(seq_record.id, i+1, nt2, nt1)\n",
    "                \n",
    "   \n",
    "    df.to_csv(output, index=False)\n",
    "    return(df)     "
   ]
  },
  {
   "cell_type": "code",
   "execution_count": null,
   "metadata": {},
   "outputs": [],
   "source": [
    "def main():\n",
    "    \n",
    "    print(\"calling mutation from referencere\")\n",
    "    input_fasta = sys.argv[1]\n",
    "    ref_fasta=sys.argv[2]\n",
    "    output=sys.argv[3]    \n",
    "    map_mutation(input_fasta,ref_fasta,output)\n",
    "    \n",
    "main()    "
   ]
  }
 ],
 "metadata": {
  "kernelspec": {
   "display_name": "Python 3",
   "language": "python",
   "name": "python3"
  },
  "language_info": {
   "codemirror_mode": {
    "name": "ipython",
    "version": 3
   },
   "file_extension": ".py",
   "mimetype": "text/x-python",
   "name": "python",
   "nbconvert_exporter": "python",
   "pygments_lexer": "ipython3",
   "version": "3.7.6"
  }
 },
 "nbformat": 4,
 "nbformat_minor": 4
}
