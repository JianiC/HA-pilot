{
 "cells": [
  {
   "cell_type": "code",
   "execution_count": 1,
   "metadata": {},
   "outputs": [],
   "source": [
    "import pandas as pd\n",
    "import glob\n",
    "import os"
   ]
  },
  {
   "cell_type": "code",
   "execution_count": 2,
   "metadata": {},
   "outputs": [],
   "source": [
    "def read_log(i):\n",
    "    return pd.read_csv(i, sep=\"\\t\",header=3)"
   ]
  },
  {
   "cell_type": "code",
   "execution_count": 14,
   "metadata": {},
   "outputs": [],
   "source": [
    "## function to summarize ancestral sequence log file \n",
    "def ancestral_sum(path,taxa,burnin,partition=False):\n",
    "    ## read ancestral log file within path and concate\n",
    "    filename=\"*\"+taxa+\"*.log\"\n",
    "    pattern = os.path.join(path, filename)\n",
    "    files = glob.glob(pattern)\n",
    "    df = pd.concat(map(read_log,files), ignore_index=True)\n",
    "    ## remove burinin\n",
    "    df = df[df['state'] > burnin]\n",
    "    if (partition==True):\n",
    "        df[taxa] = df[df.columns[1:]].apply(\n",
    "        lambda x: ''.join(x.dropna().astype(str)),\n",
    "        axis=1)\n",
    "\n",
    "    sum=df[taxa].value_counts()\n",
    "    bestseq=sum.first_valid_index()\n",
    "    pp=sum[0]/len(df) ## posterior probablity for best ancestral seq\n",
    "    print(\"posterior probablity for %s is %f\"%(taxa,pp))  \n",
    "    return(taxa,bestseq,pp)"
   ]
  },
  {
   "cell_type": "code",
   "execution_count": 15,
   "metadata": {},
   "outputs": [
    {
     "name": "stdout",
     "output_type": "stream",
     "text": [
      "posterior probablity for BE89 is 0.804377\n",
      "posterior probablity for BE92 is 0.548485\n",
      "posterior probablity for BK79 is 0.248485\n",
      "posterior probablity for EN72 is 0.771044\n",
      "posterior probablity for FU02 is 0.799663\n",
      "posterior probablity for HK68 is 0.260943\n",
      "posterior probablity for SI87 is 0.832997\n",
      "posterior probablity for SY97 is 0.947475\n",
      "posterior probablity for TX77 is 0.772054\n",
      "posterior probablity for VI75 is 0.780471\n",
      "posterior probablity for WU95 is 0.937710\n"
     ]
    }
   ],
   "source": [
    "antigenic=[\"BE89\",\"BE92\",\"BK79\",\"EN72\",\"FU02\",\"HK68\",\"SI87\",\"SY97\",\"TX77\",\"VI75\",\"WU95\"]\n",
    "with open(\"Smith_HA_mrca_seq.fasta\", \"w\") as outfile:\n",
    "    for i in antigenic:\n",
    "        ancestral_seq=ancestral_sum(\"../Results/Smith_HA_mrca_set/run*\",i,1000000)\n",
    "        outfile.write(\">\" + ancestral_seq[0] + \"\\n\")\n",
    "        outfile.write(ancestral_seq[1]+\"\\n\")\n",
    "\n",
    "outfile.close()        "
   ]
  },
  {
   "cell_type": "code",
   "execution_count": 19,
   "metadata": {},
   "outputs": [
    {
     "name": "stdout",
     "output_type": "stream",
     "text": [
      "posterior probablity for BE89 is 0.812121\n",
      "posterior probablity for BE92 is 0.555219\n",
      "posterior probablity for EN72 is 0.784175\n",
      "posterior probablity for FU02 is 0.788889\n",
      "posterior probablity for HK68 is 0.274411\n",
      "posterior probablity for SI87 is 0.831650\n",
      "posterior probablity for SY97 is 0.963636\n",
      "posterior probablity for TX77 is 0.787542\n",
      "posterior probablity for VI75 is 0.769360\n",
      "posterior probablity for WU95 is 0.931987\n"
     ]
    }
   ],
   "source": [
    "antigenic=[\"BE89\",\"BE92\",\"EN72\",\"FU02\",\"HK68\",\"SI87\",\"SY97\",\"TX77\",\"VI75\",\"WU95\"]\n",
    "with open(\"Smith_HA_mrca_p_seq.fasta\", \"w\") as outfile:\n",
    "    for i in antigenic:\n",
    "        ancestral_seq=ancestral_sum(\"../Results/Smith_HA_mrca_set_p/run*\",i,1000000,partition=True)\n",
    "        outfile.write(\">\" + ancestral_seq[0] + \"\\n\")\n",
    "        outfile.write(ancestral_seq[1]+\"\\n\")\n",
    "\n",
    "outfile.close()  "
   ]
  },
  {
   "cell_type": "code",
   "execution_count": null,
   "metadata": {},
   "outputs": [],
   "source": []
  }
 ],
 "metadata": {
  "kernelspec": {
   "display_name": "Python 3 (ipykernel)",
   "language": "python",
   "name": "python3"
  },
  "language_info": {
   "codemirror_mode": {
    "name": "ipython",
    "version": 3
   },
   "file_extension": ".py",
   "mimetype": "text/x-python",
   "name": "python",
   "nbconvert_exporter": "python",
   "pygments_lexer": "ipython3",
   "version": "3.9.5"
  }
 },
 "nbformat": 4,
 "nbformat_minor": 4
}
